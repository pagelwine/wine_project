{
 "cells": [
  {
   "cell_type": "markdown",
   "id": "438829d5",
   "metadata": {},
   "source": [
    "# All About Wine"
   ]
  },
  {
   "cell_type": "markdown",
   "id": "ac013dd1",
   "metadata": {},
   "source": [
    "# Project Goal\n",
    "\n"
   ]
  },
  {
   "cell_type": "markdown",
   "id": "28015450",
   "metadata": {},
   "source": [
    "Imports"
   ]
  },
  {
   "cell_type": "code",
   "execution_count": null,
   "id": "0769a229",
   "metadata": {},
   "outputs": [],
   "source": []
  },
  {
   "cell_type": "markdown",
   "id": "dfa7e6dd",
   "metadata": {},
   "source": []
  },
  {
   "cell_type": "markdown",
   "id": "4efbadd1",
   "metadata": {},
   "source": []
  },
  {
   "cell_type": "markdown",
   "id": "ea6b15f6",
   "metadata": {},
   "source": []
  },
  {
   "cell_type": "markdown",
   "id": "4451e6c6",
   "metadata": {},
   "source": []
  },
  {
   "cell_type": "markdown",
   "id": "06f43629",
   "metadata": {},
   "source": []
  },
  {
   "cell_type": "markdown",
   "id": "e9614f56",
   "metadata": {},
   "source": []
  },
  {
   "cell_type": "markdown",
   "id": "c3dbf36f",
   "metadata": {},
   "source": []
  },
  {
   "cell_type": "markdown",
   "id": "d9060bd0",
   "metadata": {},
   "source": []
  }
 ],
 "metadata": {
  "kernelspec": {
   "display_name": "Python 3 (ipykernel)",
   "language": "python",
   "name": "python3"
  },
  "language_info": {
   "codemirror_mode": {
    "name": "ipython",
    "version": 3
   },
   "file_extension": ".py",
   "mimetype": "text/x-python",
   "name": "python",
   "nbconvert_exporter": "python",
   "pygments_lexer": "ipython3",
   "version": "3.9.13"
  }
 },
 "nbformat": 4,
 "nbformat_minor": 5
}
